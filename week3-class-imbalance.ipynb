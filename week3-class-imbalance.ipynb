{
 "cells": [
  {
   "cell_type": "markdown",
   "id": "eea8691a-07e6-4e53-a1dc-24d1403951c8",
   "metadata": {},
   "source": [
    "# Discussion 3\n",
    "\n",
    "### Better understanding the effect of class imbalances\n",
    "\n",
    "Thursday, January 23rd, 2025"
   ]
  },
  {
   "cell_type": "markdown",
   "id": "ce184f40-b074-4f3b-96d1-57282f5cb797",
   "metadata": {},
   "source": [
    "## Introduction\n",
    "\n",
    "In this week’s discussion section, we will create some plots to better undertsand how much class imbalances can effect our classification model. Rather than creating a widget that updates the parameters of the model ( like we have done in the past couple weeks), this week we will create a widget that updates our data - specifically updating the class imbalance within our data. To do so, we will use synthesized data that is made with the intention of better understanding how relationships within data for logistic regression work. It is important to note that your results with real data may look very different - unlike this notebook, the real world data you will be working with was not made to better understand logistic regression.\n",
    "\n",
    "## Data\n",
    "\n",
    "While our data is synthetic, we will still have it hold an environmnetal value. Our data is going to represent the prescence/absence of the invasive European green crab that is often found in California coastal waters. These crabs prefer warmer water temperatures between 64° F and 79° F and salinity levels between 26 and 39 ppt. The features for our data will be water temperature and salinity, and our target variable will be the presence (1) or absence (0) of green crabs at our different sampling sites. Import the libraries below and copy the function to generate our data below to get started."
   ]
  },
  {
   "cell_type": "code",
   "execution_count": 1,
   "id": "af8ed9ba-594c-43a4-8b21-a8cf94beb058",
   "metadata": {
    "tags": []
   },
   "outputs": [],
   "source": [
    "# Import necessary libraries\n",
    "import numpy as np\n",
    "import pandas as pd\n",
    "from sklearn.model_selection import train_test_split\n",
    "from sklearn.linear_model import LogisticRegression\n",
    "from sklearn.metrics import roc_curve, auc, confusion_matrix\n",
    "import matplotlib.pyplot as plt\n",
    "from ipywidgets import interact, FloatSlider\n",
    "import seaborn as sns"
   ]
  },
  {
   "cell_type": "markdown",
   "id": "d976e2af-b446-44c6-93a7-a3b2de49d569",
   "metadata": {},
   "source": [
    "## Time for some FUN(ctions)!\n",
    "\n",
    "We will create six different functions for the different parts of our interactive output: one to generate the data, a second to create a barplot to represent the class imbalance, a third to create a confusion matrix, another to create an ROC curve, a function to wrap everything together, and a final function to add interactivity. Let’s get to it!\n",
    "\n",
    "### Function 1\n",
    "\n",
    "Create a function that generates the species data. The parameters should be the sample size and the ratio of present green crabs.\n",
    "\n"
   ]
  },
  {
   "cell_type": "code",
   "execution_count": 2,
   "id": "80551666-398b-499e-ae6e-7baee11613dd",
   "metadata": {
    "tags": []
   },
   "outputs": [],
   "source": [
    "def generate_species_data(n_samples=1000, presence_ratio=0.3):\n",
    "    # Calculate number of samples for each class\n",
    "    n_present = int(n_samples * presence_ratio)\n",
    "    n_absent = n_samples - n_present\n",
    "    \n",
    "    # Generate features for presence sites \n",
    "    # Green crabs prefer warmer temps (between 64 and 79 degrees Fahrenheit) and  salinity between 26 and 39 ppt\n",
    "    temp_present = np.random.normal(loc=71, scale= 4, size=n_present)\n",
    "    salinity_present = np.random.normal(loc=32, scale=3, size=n_present)\n",
    "    X_present = np.column_stack([temp_present, salinity_present])\n",
    "    y_present = np.ones(n_present)\n",
    "    \n",
    "    # Generate features for absence sites\n",
    "    # Sites with warmer temps or lower salinity\n",
    "    temp_absent = np.random.normal(loc=26, scale=3, size=n_absent)\n",
    "    salinity_absent = np.random.normal(loc=28, scale=2, size=n_absent)\n",
    "    X_absent = np.column_stack([temp_absent, salinity_absent])\n",
    "    y_absent = np.zeros(n_absent)\n",
    "    \n",
    "    # Combine and shuffle the data\n",
    "    X = np.concatenate([X_present, X_absent])\n",
    "    y = np.concatenate([y_present, y_absent])\n",
    "    \n",
    "    # Shuffle the data\n",
    "    shuffle_idx = np.random.permutation(n_samples)\n",
    "    X = X[shuffle_idx]\n",
    "    y = y[shuffle_idx]\n",
    "    \n",
    "    return X, y"
   ]
  },
  {
   "cell_type": "markdown",
   "id": "7b47b2de-5bb5-4be9-bca3-b34c61591a32",
   "metadata": {},
   "source": [
    "### Function 2\n",
    "\n",
    "Create a function that creats a bar plot of species presense distribution based on the ratio selected by the user."
   ]
  },
  {
   "cell_type": "code",
   "execution_count": 3,
   "id": "93b250f5-b73d-411f-8f1e-c87e2ee32ae6",
   "metadata": {
    "tags": []
   },
   "outputs": [],
   "source": [
    "def plot_class_distribution(y): \n",
    "    \n",
    "    plt.figure(figsize=(8,4))\n",
    "    \n",
    "    # Count the values in each cat (pres/abs)\n",
    "    class_counts = pd.Series(y).value_counts().sort_index()\n",
    "    \n",
    "    # Create bar plot of Abs and pres species \n",
    "    sns.barplot(x = ['Absent', 'Present'], y = class_counts, color = '#005477')\n",
    "    plt.title('Dist of Species Present/Absent')\n",
    "    plt.ylabel('Number of sampling sites')\n",
    "    \n",
    "    # Add % over each bar \n",
    "    total = len(y)\n",
    "    for i, count in enumerate(class_counts):\n",
    "        percentage = count/total * 100\n",
    "        plt.text(i, count, f'{percentage:.1f}%', ha = 'center', va = 'bottom') # bottom = top \n",
    "    plt.show()"
   ]
  },
  {
   "cell_type": "markdown",
   "id": "5ccc8e1d-b276-4fbe-9206-d551e854ca18",
   "metadata": {},
   "source": [
    "### Function 3\n",
    "\n",
    "Create a function that plots a confusion matrix of the predicted y values and true y values."
   ]
  },
  {
   "cell_type": "code",
   "execution_count": 12,
   "id": "5eebb6d5-96d7-4d6f-b61f-b9d447b6d0fc",
   "metadata": {
    "tags": []
   },
   "outputs": [],
   "source": [
    "def plot_confusion_matrix(y_true, y_pred):\n",
    "    \n",
    "    # Create CM \n",
    "    cm = confusion_matrix(y_true, y_pred)\n",
    "    \n",
    "    # Create confusion matrix plot \n",
    "    plt.figure(figsize = (8, 6))\n",
    "    sns.heatmap(cm, annot = True, fmt = 'd', cmap = 'GnBu', # d = interger\n",
    "               xticklabels = ['Absent', 'Present'],\n",
    "               yticklabels = ['Absent', 'Present']) \n",
    "    plt.title('Confusion Matrix')\n",
    "    plt.ylabel('True Label')\n",
    "    plt.xlabel('Predicted Label')\n",
    "    plt.show()\n",
    "    \n",
    "    \n",
    "    # Calc metrics\n",
    "    TP = cm[1,1] # True positie \n",
    "    TN = cm[0,0] # True negative \n",
    "    FP = cm[0,1] # False positive \n",
    "    FN = cm[1,0] # False negative \n",
    "    \n",
    "    print(\"\\nMetrics from Confusion Matrix\")\n",
    "    print(f'True Positives: {TP}')\n",
    "    print(f'True Negatives: {TN}')\n",
    "    print(f'False Positives (incorrectly predicted presence): {FP}')\n",
    "    print(f'False Negatives (incorrectly predicted absence): {FN}')\n",
    "    \n",
    "    # Calculate accuracy \n",
    "    accuracy = (TP + TN)/ (TP + TN + FP + FN)\n",
    "    majority_baseline = max(np.mean(y_true), 1-np.mean(y_true))\n",
    "    sensitivity = TP/ (TP + FN)\n",
    "    specificity = TN/ (TN + FP)\n",
    "    \n",
    "    print(f\"\\nModel Performance Metrics:\")\n",
    "    print(f\"Accuracy: {accuracy}\")\n",
    "    print(f\"Sensitivity (True positive rate): {sensitivity:.3f}\")\n",
    "    print(f\"Specificity (True Negative rate): {specificity:.3f}\")"
   ]
  },
  {
   "cell_type": "markdown",
   "id": "a35366b7-e632-4bd6-95af-6bbf451a0e04",
   "metadata": {},
   "source": [
    "### Function 4\n",
    "\n",
    "Create a function that plots an ROC curve using the predicted y class probabilities and true y values."
   ]
  },
  {
   "cell_type": "code",
   "execution_count": 5,
   "id": "b0942656-c214-4e07-aedf-15af9252dc4a",
   "metadata": {
    "tags": []
   },
   "outputs": [],
   "source": [
    "def plot_roc_curve(y_test, y_pred_prob):\n",
    "    \n",
    "    fpr, tpr, _ = roc_curve(y_test, y_pred_prob) # underscore = ignore third value (thresholds)\n",
    "    roc_auc = auc(fpr, tpr)\n",
    "    \n",
    "    plt.figure(figsize = (8,6))\n",
    "    plt.plot(fpr, tpr, color = 'darkorange', lw = 2, \n",
    "            label = f'ROC Curve (area under curve = {roc_auc:.2f})')\n",
    "    plt.plot([0,1], [0,1], color = 'navy', lw = 2, linestyle = '--',\n",
    "            label = 'Random Classifier (area under curve = 0.5)')\n",
    "    plt.xlabel('False Postitive Rate')\n",
    "    plt.ylabel('True Positive Rate')\n",
    "    plt.title('ROC Curve: Species Presence Prediction')\n",
    "    plt.legend()\n",
    "    plt.grid(True)\n",
    "    plt.show()"
   ]
  },
  {
   "cell_type": "markdown",
   "id": "f13e1b54-4aad-4747-a3f9-404ba4c2fa7f",
   "metadata": {},
   "source": [
    "### Function 5\n",
    "\n",
    "Create function that runs a logistic regression and outputs the three plots you created above."
   ]
  },
  {
   "cell_type": "code",
   "execution_count": 8,
   "id": "59a0b83b-595b-4af4-a6c7-d94b83dd35cb",
   "metadata": {
    "tags": []
   },
   "outputs": [],
   "source": [
    "def interactive_logistic_regression(presence_ratio = 0.3):\n",
    "    X, y = generate_species_data(presence_ratio = presence_ratio)\n",
    "    \n",
    "    # Distribution plot \n",
    "    print(\"\\nClass Distribution\")\n",
    "    plot_class_distribution(y)\n",
    "    \n",
    "    # Split the data \n",
    "    X_train, X_test, y_train, y_test = train_test_split(X, y, test_size = 0.3, random_state = 42)\n",
    "    \n",
    "    # Train model \n",
    "    model = LogisticRegression()\n",
    "    model.fit(X_train, y_train)\n",
    "    \n",
    "    # Make predictions \n",
    "    y_pred = model.predict(X_test)\n",
    "    y_pred_prob = model.predict_proba(X_test)[:, 1] # All rows, first column \n",
    "    \n",
    "    # Plot CM \n",
    "    print(\"\\nConfusion Matirx\")\n",
    "    plot_confusion_matrix(y_test, y_pred)\n",
    "    \n",
    "    # Plot ROC \n",
    "    print(\"\\nROC Curve\")\n",
    "    plot_roc_curve(y_test, y_pred_prob)\n",
    "    \n",
    "    "
   ]
  },
  {
   "cell_type": "markdown",
   "id": "2184a3c9-73ee-4981-a3a7-e07fb5e64b8c",
   "metadata": {},
   "source": [
    "### Function 6\n",
    "\n",
    "Create a function that adds interactivity to function 5."
   ]
  },
  {
   "cell_type": "code",
   "execution_count": 13,
   "id": "4854d357-9ded-464a-9682-2b9fadeebec9",
   "metadata": {
    "tags": []
   },
   "outputs": [
    {
     "data": {
      "application/vnd.jupyter.widget-view+json": {
       "model_id": "8efd26a3b67045b2aef50b76218f8800",
       "version_major": 2,
       "version_minor": 0
      },
      "text/plain": [
       "interactive(children=(FloatSlider(value=0.3, description='% Present', max=0.9, min=0.1), Output()), _dom_class…"
      ]
     },
     "metadata": {},
     "output_type": "display_data"
    }
   ],
   "source": [
    "# Create interactive widget \n",
    "def generate_log_regression(): \n",
    "    interact(interactive_logistic_regression, \n",
    "            presence_ratio = FloatSlider(min = 0.1, max = 0.9, steps = 0.1, value = 0.3,\n",
    "                                        description = \"% Present\")\n",
    "            )\n",
    "generate_log_regression()"
   ]
  }
 ],
 "metadata": {
  "kernelspec": {
   "display_name": "Python 3 (ipykernel)",
   "language": "python",
   "name": "python3"
  },
  "language_info": {
   "codemirror_mode": {
    "name": "ipython",
    "version": 3
   },
   "file_extension": ".py",
   "mimetype": "text/x-python",
   "name": "python",
   "nbconvert_exporter": "python",
   "pygments_lexer": "ipython3",
   "version": "3.7.13"
  }
 },
 "nbformat": 4,
 "nbformat_minor": 5
}
